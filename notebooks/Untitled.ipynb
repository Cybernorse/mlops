{
 "cells": [
  {
   "cell_type": "code",
   "execution_count": 4,
   "id": "d1df639b",
   "metadata": {},
   "outputs": [],
   "source": [
    "import os\n",
    "import pandas as pd"
   ]
  },
  {
   "cell_type": "code",
   "execution_count": 2,
   "id": "55c6c845",
   "metadata": {},
   "outputs": [],
   "source": [
    "df = pd.read_csv(\"../data_given/winequality.csv\")"
   ]
  },
  {
   "cell_type": "code",
   "execution_count": 3,
   "id": "3f518208",
   "metadata": {},
   "outputs": [],
   "source": [
    "overview = df.describe()"
   ]
  },
  {
   "cell_type": "code",
   "execution_count": 7,
   "id": "5184c95e",
   "metadata": {},
   "outputs": [],
   "source": [
    "overview.loc[[\"min\",\"max\"]].to_json(\"schema_in.json\")"
   ]
  },
  {
   "cell_type": "code",
   "execution_count": 9,
   "id": "05fd3303",
   "metadata": {},
   "outputs": [],
   "source": [
    "class NotInRange(Exception):\n",
    "    def __init__(self, message=\"value not in range\"):\n",
    "#         self.input_ = input_\n",
    "        self.message = message\n",
    "        super().__init__(self.message)"
   ]
  },
  {
   "cell_type": "code",
   "execution_count": 10,
   "id": "aa3e2324",
   "metadata": {
    "scrolled": true
   },
   "outputs": [
    {
     "ename": "NotInRange",
     "evalue": "value not in range",
     "output_type": "error",
     "traceback": [
      "\u001b[0;31m---------------------------------------------------------------------------\u001b[0m",
      "\u001b[0;31mNotInRange\u001b[0m                                Traceback (most recent call last)",
      "\u001b[0;32m/tmp/ipykernel_40872/749905967.py\u001b[0m in \u001b[0;36m<module>\u001b[0;34m\u001b[0m\n\u001b[0;32m----> 1\u001b[0;31m \u001b[0;32mraise\u001b[0m \u001b[0mNotInRange\u001b[0m\u001b[0;34m\u001b[0m\u001b[0;34m\u001b[0m\u001b[0m\n\u001b[0m",
      "\u001b[0;31mNotInRange\u001b[0m: value not in range"
     ]
    }
   ],
   "source": [
    "raise NotInRange"
   ]
  },
  {
   "cell_type": "code",
   "execution_count": 5,
   "id": "a6c41199",
   "metadata": {},
   "outputs": [
    {
     "data": {
      "text/plain": [
       "'/home/bigpenguin/projects/mlops/notebooks'"
      ]
     },
     "execution_count": 5,
     "metadata": {},
     "output_type": "execute_result"
    }
   ],
   "source": [
    "pwd"
   ]
  },
  {
   "cell_type": "code",
   "execution_count": 6,
   "id": "ea06fa97",
   "metadata": {},
   "outputs": [],
   "source": [
    "os.chdir('/home/bigpenguin/projects/mlops')"
   ]
  },
  {
   "cell_type": "code",
   "execution_count": 8,
   "id": "c7a9bc04",
   "metadata": {},
   "outputs": [
    {
     "name": "stdout",
     "output_type": "stream",
     "text": [
      "{'creation_timestamp': 1676222367542,\n",
      " 'current_stage': 'Staging',\n",
      " 'description': '',\n",
      " 'last_updated_timestamp': 1676283900976,\n",
      " 'name': 'ElasticNetWineModel',\n",
      " 'run_id': '07f5d73b80804f4692ae3ada155bd307',\n",
      " 'run_link': '',\n",
      " 'source': './artifacts/1/07f5d73b80804f4692ae3ada155bd307/artifacts/model',\n",
      " 'status': 'READY',\n",
      " 'status_message': '',\n",
      " 'tags': {},\n",
      " 'user_id': '',\n",
      " 'version': '2'}\n",
      "{'creation_timestamp': 1676217174663,\n",
      " 'current_stage': 'Staging',\n",
      " 'description': '',\n",
      " 'last_updated_timestamp': 1676283900954,\n",
      " 'name': 'ElasticNetWineModel',\n",
      " 'run_id': '1cff9eaa607e4e31889ef1e26d1c195a',\n",
      " 'run_link': '',\n",
      " 'source': './artifacts/1/1cff9eaa607e4e31889ef1e26d1c195a/artifacts/model',\n",
      " 'status': 'READY',\n",
      " 'status_message': '',\n",
      " 'tags': {},\n",
      " 'user_id': '',\n",
      " 'version': '1'}\n"
     ]
    },
    {
     "ename": "UnboundLocalError",
     "evalue": "local variable 'logged_model' referenced before assignment",
     "output_type": "error",
     "traceback": [
      "\u001b[0;31m---------------------------------------------------------------------------\u001b[0m",
      "\u001b[0;31mUnboundLocalError\u001b[0m                         Traceback (most recent call last)",
      "\u001b[0;32m/tmp/ipykernel_15339/3114951633.py\u001b[0m in \u001b[0;36m<module>\u001b[0;34m\u001b[0m\n\u001b[1;32m     47\u001b[0m \u001b[0;34m\u001b[0m\u001b[0m\n\u001b[1;32m     48\u001b[0m \u001b[0;34m\u001b[0m\u001b[0m\n\u001b[0;32m---> 49\u001b[0;31m \u001b[0mlog_production_model\u001b[0m\u001b[0;34m(\u001b[0m\u001b[0;34m\"params.yaml\"\u001b[0m\u001b[0;34m)\u001b[0m\u001b[0;34m\u001b[0m\u001b[0;34m\u001b[0m\u001b[0m\n\u001b[0m\u001b[1;32m     50\u001b[0m \u001b[0;34m\u001b[0m\u001b[0m\n\u001b[1;32m     51\u001b[0m \u001b[0;31m# if __name__=='__main__':\u001b[0m\u001b[0;34m\u001b[0m\u001b[0;34m\u001b[0m\u001b[0;34m\u001b[0m\u001b[0m\n",
      "\u001b[0;32m/tmp/ipykernel_15339/3114951633.py\u001b[0m in \u001b[0;36mlog_production_model\u001b[0;34m(config_path)\u001b[0m\n\u001b[1;32m     44\u001b[0m             )\n\u001b[1;32m     45\u001b[0m \u001b[0;34m\u001b[0m\u001b[0m\n\u001b[0;32m---> 46\u001b[0;31m     \u001b[0mprint\u001b[0m\u001b[0;34m(\u001b[0m\u001b[0mlogged_model\u001b[0m\u001b[0;34m)\u001b[0m\u001b[0;34m\u001b[0m\u001b[0;34m\u001b[0m\u001b[0m\n\u001b[0m\u001b[1;32m     47\u001b[0m \u001b[0;34m\u001b[0m\u001b[0m\n\u001b[1;32m     48\u001b[0m \u001b[0;34m\u001b[0m\u001b[0m\n",
      "\u001b[0;31mUnboundLocalError\u001b[0m: local variable 'logged_model' referenced before assignment"
     ]
    }
   ],
   "source": [
    "from src.get_data import read_params\n",
    "import argparse\n",
    "import mlflow\n",
    "from mlflow.tracking import MlflowClient\n",
    "from pprint import pprint\n",
    "import joblib\n",
    "import os\n",
    "\n",
    "def log_production_model(config_path):\n",
    "    config = read_params(config_path)\n",
    "\n",
    "    mlflow_config = config[\"mlflow_config\"]\n",
    "\n",
    "    model_name = mlflow_config[\"registered_model_name\"]\n",
    "\n",
    "    remote_server_uri = mlflow_config[\"remote_server_uri\"]\n",
    "    mlflow.set_registry_uri(remote_server_uri)\n",
    "\n",
    "    runs = mlflow.search_runs(experiment_ids='1')\n",
    "    lowest = runs[\"metrics.mae\"].sort_values(ascending=True)[0]\n",
    "    lowest_run_id = runs[runs[\"metrics.mae\"] == lowest][\"run_id\"][0]\n",
    "\n",
    "    client = MlflowClient()\n",
    "    for mc in client.search_model_versions(f\"name='{model_name}'\"):\n",
    "        mv = dict(mc)\n",
    "        pprint(mv)\n",
    "\n",
    "        if mv[\"run_id\"] == lowest_run_id:\n",
    "            current_version = mv[\"version\"]\n",
    "            logged_model = mv[\"source\"]\n",
    "            pprint(mv,indent=4)\n",
    "\n",
    "            client.transition_model_version_stage(\n",
    "                name = model_name,\n",
    "                version = current_version,\n",
    "                stage = \"Production\"\n",
    "            )\n",
    "        else:\n",
    "            current_version = mv[\"version\"]\n",
    "            client.transition_model_version_stage(\n",
    "                name = model_name,\n",
    "                version = current_version,\n",
    "                stage = \"Staging\"\n",
    "            )\n",
    "    \n",
    "    print(logged_model)\n",
    "\n",
    "\n",
    "log_production_model(\"params.yaml\")\n",
    "\n",
    "# if __name__=='__main__':\n",
    "#     args = argparse.ArgumentParser()\n",
    "#     args.add_argument(\"--config\",default=\"params.yaml\")\n",
    "#     parsed_args = args.parse_args()\n",
    "#     data = log_production_model(config_path=parsed_args.config)"
   ]
  },
  {
   "cell_type": "code",
   "execution_count": null,
   "id": "f7b747bb",
   "metadata": {},
   "outputs": [],
   "source": []
  }
 ],
 "metadata": {
  "kernelspec": {
   "display_name": "Python 3 (ipykernel)",
   "language": "python",
   "name": "python3"
  },
  "language_info": {
   "codemirror_mode": {
    "name": "ipython",
    "version": 3
   },
   "file_extension": ".py",
   "mimetype": "text/x-python",
   "name": "python",
   "nbconvert_exporter": "python",
   "pygments_lexer": "ipython3",
   "version": "3.7.13"
  }
 },
 "nbformat": 4,
 "nbformat_minor": 5
}
